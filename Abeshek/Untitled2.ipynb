{
 "cells": [
  {
   "cell_type": "code",
   "execution_count": 1,
   "id": "5caa1a10",
   "metadata": {},
   "outputs": [
    {
     "data": {
      "text/plain": [
       "'3040'"
      ]
     },
     "execution_count": 1,
     "metadata": {},
     "output_type": "execute_result"
    }
   ],
   "source": [
    "\"30\"+\"40\""
   ]
  },
  {
   "cell_type": "code",
   "execution_count": 2,
   "id": "309416a7",
   "metadata": {},
   "outputs": [],
   "source": [
    "#String concatonation\n"
   ]
  },
  {
   "cell_type": "code",
   "execution_count": 8,
   "id": "388751e4",
   "metadata": {},
   "outputs": [],
   "source": [
    "a = \"My Name Is\""
   ]
  },
  {
   "cell_type": "code",
   "execution_count": null,
   "id": "31de1c30",
   "metadata": {},
   "outputs": [],
   "source": []
  },
  {
   "cell_type": "raw",
   "id": "41ee3818",
   "metadata": {},
   "source": [
    "a + \" Abeshek Manger\""
   ]
  },
  {
   "cell_type": "code",
   "execution_count": 11,
   "id": "6424fc0a",
   "metadata": {},
   "outputs": [],
   "source": [
    "letter = \"t\""
   ]
  },
  {
   "cell_type": "code",
   "execution_count": 17,
   "id": "68b63739",
   "metadata": {},
   "outputs": [
    {
     "data": {
      "text/plain": [
       "'tttttttttttt'"
      ]
     },
     "execution_count": 17,
     "metadata": {},
     "output_type": "execute_result"
    }
   ],
   "source": [
    "letter *12"
   ]
  },
  {
   "cell_type": "code",
   "execution_count": 18,
   "id": "0c9b07b0",
   "metadata": {},
   "outputs": [],
   "source": [
    "x= \"Abeshek Manger\""
   ]
  },
  {
   "cell_type": "code",
   "execution_count": 19,
   "id": "8f5d845d",
   "metadata": {},
   "outputs": [
    {
     "data": {
      "text/plain": [
       "'Abeshek Manger'"
      ]
     },
     "execution_count": 19,
     "metadata": {},
     "output_type": "execute_result"
    }
   ],
   "source": [
    "x"
   ]
  },
  {
   "cell_type": "code",
   "execution_count": 22,
   "id": "52c708aa",
   "metadata": {},
   "outputs": [
    {
     "data": {
      "text/plain": [
       "'ABESHEK MANGER'"
      ]
     },
     "execution_count": 22,
     "metadata": {},
     "output_type": "execute_result"
    }
   ],
   "source": [
    "x.upper()"
   ]
  },
  {
   "cell_type": "code",
   "execution_count": 23,
   "id": "95c174c5",
   "metadata": {},
   "outputs": [
    {
     "data": {
      "text/plain": [
       "['Abeshek', 'Manger']"
      ]
     },
     "execution_count": 23,
     "metadata": {},
     "output_type": "execute_result"
    }
   ],
   "source": [
    "x.split()"
   ]
  },
  {
   "cell_type": "code",
   "execution_count": 25,
   "id": "6b2b0ed7",
   "metadata": {},
   "outputs": [
    {
     "data": {
      "text/plain": [
       "['Ab', 'sh', 'k Mang', 'r']"
      ]
     },
     "execution_count": 25,
     "metadata": {},
     "output_type": "execute_result"
    }
   ],
   "source": [
    "x.split('e')"
   ]
  },
  {
   "cell_type": "code",
   "execution_count": 29,
   "id": "b8ac5258",
   "metadata": {},
   "outputs": [
    {
     "data": {
      "text/plain": [
       "'\\nHEY THIS IS MULYLINE COMMENT\\nI AM MULYLINE\\n'"
      ]
     },
     "execution_count": 29,
     "metadata": {},
     "output_type": "execute_result"
    }
   ],
   "source": [
    "'''\n",
    "HEY THIS IS MULYLINE COMMENT\n",
    "I AM MULYLINE\n",
    "'''"
   ]
  },
  {
   "cell_type": "code",
   "execution_count": 38,
   "id": "6cc0aa32",
   "metadata": {},
   "outputs": [],
   "source": [
    "My_name =\" Abeshek\""
   ]
  },
  {
   "cell_type": "code",
   "execution_count": 40,
   "id": "bccad4f2",
   "metadata": {},
   "outputs": [
    {
     "name": "stdout",
     "output_type": "stream",
     "text": [
      "Hello my name is Abeshek\n"
     ]
    }
   ],
   "source": [
    "print('Hello my name is' + My_name)"
   ]
  },
  {
   "cell_type": "code",
   "execution_count": 41,
   "id": "246c397f",
   "metadata": {},
   "outputs": [],
   "source": [
    "#.formad methord"
   ]
  },
  {
   "cell_type": "code",
   "execution_count": 42,
   "id": "dafd8298",
   "metadata": {},
   "outputs": [],
   "source": [
    "#'String here {}{}{}'.format(something 1, something2, something3)"
   ]
  },
  {
   "cell_type": "code",
   "execution_count": 46,
   "id": "6a4518b4",
   "metadata": {},
   "outputs": [
    {
     "name": "stdout",
     "output_type": "stream",
     "text": [
      "I am a student of Medhavi Skills University\n"
     ]
    }
   ],
   "source": [
    "print ('I am a student of {}'.format('Medhavi Skills University'))"
   ]
  },
  {
   "cell_type": "code",
   "execution_count": 56,
   "id": "f7831d65",
   "metadata": {},
   "outputs": [
    {
     "name": "stdout",
     "output_type": "stream",
     "text": [
      "I am Abeshek Rana Manger\n"
     ]
    }
   ],
   "source": [
    "print('I am {a} {r} {m}'.format(a=\"Abeshek\", r=\"Rana\", m=\"Manger\"))"
   ]
  },
  {
   "cell_type": "code",
   "execution_count": null,
   "id": "dd70f8a0",
   "metadata": {},
   "outputs": [],
   "source": []
  }
 ],
 "metadata": {
  "kernelspec": {
   "display_name": "Python 3 (ipykernel)",
   "language": "python",
   "name": "python3"
  },
  "language_info": {
   "codemirror_mode": {
    "name": "ipython",
    "version": 3
   },
   "file_extension": ".py",
   "mimetype": "text/x-python",
   "name": "python",
   "nbconvert_exporter": "python",
   "pygments_lexer": "ipython3",
   "version": "3.9.12"
  }
 },
 "nbformat": 4,
 "nbformat_minor": 5
}
