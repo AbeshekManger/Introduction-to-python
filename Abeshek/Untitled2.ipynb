{
 "cells": [
  {
   "cell_type": "code",
   "execution_count": 1,
   "id": "254b5ae6",
   "metadata": {},
   "outputs": [
    {
     "data": {
      "text/plain": [
       "'3040'"
      ]
     },
     "execution_count": 1,
     "metadata": {},
     "output_type": "execute_result"
    }
   ],
   "source": [
    "\"30\"+\"40\""
   ]
  },
  {
   "cell_type": "code",
   "execution_count": 2,
   "id": "f9536641",
   "metadata": {},
   "outputs": [],
   "source": [
    "#String concatonation\n"
   ]
  },
  {
   "cell_type": "code",
   "execution_count": 8,
   "id": "e2370a10",
   "metadata": {},
   "outputs": [],
   "source": [
    "a = \"My Name Is\""
   ]
  },
  {
   "cell_type": "code",
   "execution_count": null,
   "id": "79b4f3cd",
   "metadata": {},
   "outputs": [],
   "source": []
  },
  {
   "cell_type": "raw",
   "id": "ffcb6075",
   "metadata": {},
   "source": [
    "a + \" Abeshek Manger\""
   ]
  },
  {
   "cell_type": "code",
   "execution_count": 11,
   "id": "5d34e2a4",
   "metadata": {},
   "outputs": [],
   "source": [
    "letter = \"t\""
   ]
  },
  {
   "cell_type": "code",
   "execution_count": 17,
   "id": "b98039e7",
   "metadata": {},
   "outputs": [
    {
     "data": {
      "text/plain": [
       "'tttttttttttt'"
      ]
     },
     "execution_count": 17,
     "metadata": {},
     "output_type": "execute_result"
    }
   ],
   "source": [
    "letter *12"
   ]
  },
  {
   "cell_type": "code",
   "execution_count": 18,
   "id": "8ba5b1dd",
   "metadata": {},
   "outputs": [],
   "source": [
    "x= \"Abeshek Manger\""
   ]
  },
  {
   "cell_type": "code",
   "execution_count": 19,
   "id": "0699c6a9",
   "metadata": {},
   "outputs": [
    {
     "data": {
      "text/plain": [
       "'Abeshek Manger'"
      ]
     },
     "execution_count": 19,
     "metadata": {},
     "output_type": "execute_result"
    }
   ],
   "source": [
    "x"
   ]
  },
  {
   "cell_type": "code",
   "execution_count": 22,
   "id": "341a330a",
   "metadata": {},
   "outputs": [
    {
     "data": {
      "text/plain": [
       "'ABESHEK MANGER'"
      ]
     },
     "execution_count": 22,
     "metadata": {},
     "output_type": "execute_result"
    }
   ],
   "source": [
    "x.upper()"
   ]
  },
  {
   "cell_type": "code",
   "execution_count": 23,
   "id": "eff55e02",
   "metadata": {},
   "outputs": [
    {
     "data": {
      "text/plain": [
       "['Abeshek', 'Manger']"
      ]
     },
     "execution_count": 23,
     "metadata": {},
     "output_type": "execute_result"
    }
   ],
   "source": [
    "x.split()"
   ]
  },
  {
   "cell_type": "code",
   "execution_count": 25,
   "id": "898baaaa",
   "metadata": {},
   "outputs": [
    {
     "data": {
      "text/plain": [
       "['Ab', 'sh', 'k Mang', 'r']"
      ]
     },
     "execution_count": 25,
     "metadata": {},
     "output_type": "execute_result"
    }
   ],
   "source": [
    "x.split('e')"
   ]
  },
  {
   "cell_type": "code",
   "execution_count": 29,
   "id": "da48c1c1",
   "metadata": {},
   "outputs": [
    {
     "data": {
      "text/plain": [
       "'\\nHEY THIS IS MULYLINE COMMENT\\nI AM MULYLINE\\n'"
      ]
     },
     "execution_count": 29,
     "metadata": {},
     "output_type": "execute_result"
    }
   ],
   "source": [
    "'''\n",
    "HEY THIS IS MULYLINE COMMENT\n",
    "I AM MULYLINE\n",
    "'''"
   ]
  },
  {
   "cell_type": "code",
   "execution_count": 38,
   "id": "5c85c0bc",
   "metadata": {},
   "outputs": [],
   "source": [
    "My_name =\" Abeshek\""
   ]
  },
  {
   "cell_type": "code",
   "execution_count": 40,
   "id": "b21c9aa1",
   "metadata": {},
   "outputs": [
    {
     "name": "stdout",
     "output_type": "stream",
     "text": [
      "Hello my name is Abeshek\n"
     ]
    }
   ],
   "source": [
    "print('Hello my name is' + My_name)"
   ]
  },
  {
   "cell_type": "code",
   "execution_count": 41,
   "id": "cfca287d",
   "metadata": {},
   "outputs": [],
   "source": [
    "#.formad methord"
   ]
  },
  {
   "cell_type": "code",
   "execution_count": 42,
   "id": "9f1ad5b7",
   "metadata": {},
   "outputs": [],
   "source": [
    "#'String here {}{}{}'.format(something 1, something2, something3)"
   ]
  },
  {
   "cell_type": "code",
   "execution_count": 46,
   "id": "7a6e0a08",
   "metadata": {},
   "outputs": [
    {
     "name": "stdout",
     "output_type": "stream",
     "text": [
      "I am a student of Medhavi Skills University\n"
     ]
    }
   ],
   "source": [
    "print ('I am a student of {}'.format('Medhavi Skills University'))"
   ]
  },
  {
   "cell_type": "code",
   "execution_count": 56,
   "id": "9bd13c17",
   "metadata": {},
   "outputs": [
    {
     "name": "stdout",
     "output_type": "stream",
     "text": [
      "I am Abeshek Rana Manger\n"
     ]
    }
   ],
   "source": [
    "print('I am {a} {r} {m}'.format(a=\"Abeshek\", r=\"Rana\", m=\"Manger\"))"
   ]
  },
  {
   "cell_type": "code",
   "execution_count": 60,
   "id": "b54bc80b",
   "metadata": {},
   "outputs": [
    {
     "name": "stdout",
     "output_type": "stream",
     "text": [
      "this is a string INSERTED\n"
     ]
    }
   ],
   "source": [
    "print('this is a string {}' .format('INSERTED'))"
   ]
  },
  {
   "cell_type": "code",
   "execution_count": 61,
   "id": "ed154f31",
   "metadata": {},
   "outputs": [],
   "source": [
    "#float Formatting {valuer:width.precision f}"
   ]
  },
  {
   "cell_type": "code",
   "execution_count": 62,
   "id": "2259442f",
   "metadata": {},
   "outputs": [],
   "source": [
    "result =100/77"
   ]
  },
  {
   "cell_type": "code",
   "execution_count": 63,
   "id": "94e53685",
   "metadata": {},
   "outputs": [
    {
     "data": {
      "text/plain": [
       "1.2987012987012987"
      ]
     },
     "execution_count": 63,
     "metadata": {},
     "output_type": "execute_result"
    }
   ],
   "source": [
    "result"
   ]
  },
  {
   "cell_type": "code",
   "execution_count": 68,
   "id": "04b3c12b",
   "metadata": {},
   "outputs": [],
   "source": [
    "s1='hello'\n",
    "s2='i am a'\n",
    "s3='python programmer'"
   ]
  },
  {
   "cell_type": "code",
   "execution_count": 69,
   "id": "11bf0bad",
   "metadata": {},
   "outputs": [
    {
     "data": {
      "text/plain": [
       "'helloi am apython programmer'"
      ]
     },
     "execution_count": 69,
     "metadata": {},
     "output_type": "execute_result"
    }
   ],
   "source": [
    "s1+s2+s3"
   ]
  },
  {
   "cell_type": "code",
   "execution_count": 70,
   "id": "2fc5c084",
   "metadata": {},
   "outputs": [],
   "source": [
    "text=\"the quick browm fox\""
   ]
  },
  {
   "cell_type": "code",
   "execution_count": 71,
   "id": "45df7f7c",
   "metadata": {},
   "outputs": [
    {
     "data": {
      "text/plain": [
       "'THE QUICK BROWM FOX'"
      ]
     },
     "execution_count": 71,
     "metadata": {},
     "output_type": "execute_result"
    }
   ],
   "source": [
    "text.upper()"
   ]
  },
  {
   "cell_type": "code",
   "execution_count": 72,
   "id": "1d5b6394",
   "metadata": {},
   "outputs": [
    {
     "ename": "SyntaxError",
     "evalue": "invalid syntax (3414030134.py, line 1)",
     "output_type": "error",
     "traceback": [
      "\u001b[1;36m  Input \u001b[1;32mIn [72]\u001b[1;36m\u001b[0m\n\u001b[1;33m    my name is {j}{age}years old .format(j=john age=25)\u001b[0m\n\u001b[1;37m       ^\u001b[0m\n\u001b[1;31mSyntaxError\u001b[0m\u001b[1;31m:\u001b[0m invalid syntax\n"
     ]
    }
   ],
   "source": [
    "my name is {j}{age}years old .format(j=john age=25)"
   ]
  },
  {
   "cell_type": "code",
   "execution_count": 82,
   "id": "8cf72400",
   "metadata": {},
   "outputs": [
    {
     "name": "stdout",
     "output_type": "stream",
     "text": [
      "I am john 25 years old\n"
     ]
    }
   ],
   "source": [
    "print('I am {j} {a} {y}'.format(y=\"years old\", j=\"john\", a=\"25\"))"
   ]
  },
  {
   "cell_type": "code",
   "execution_count": 74,
   "id": "a473e8a3",
   "metadata": {},
   "outputs": [],
   "source": [
    "x='i love programming'"
   ]
  },
  {
   "cell_type": "code",
   "execution_count": 80,
   "id": "6b6d52f3",
   "metadata": {},
   "outputs": [
    {
     "ename": "TypeError",
     "evalue": "'dict' object is not callable",
     "output_type": "error",
     "traceback": [
      "\u001b[1;31m---------------------------------------------------------------------------\u001b[0m",
      "\u001b[1;31mTypeError\u001b[0m                                 Traceback (most recent call last)",
      "Input \u001b[1;32mIn [80]\u001b[0m, in \u001b[0;36m<cell line: 1>\u001b[1;34m()\u001b[0m\n\u001b[1;32m----> 1\u001b[0m \u001b[43mx\u001b[49m\u001b[43m(\u001b[49m\u001b[38;5;241;43m6\u001b[39;49m\u001b[43m)\u001b[49m\n",
      "\u001b[1;31mTypeError\u001b[0m: 'dict' object is not callable"
     ]
    }
   ],
   "source": [
    "x"
   ]
  },
  {
   "cell_type": "code",
   "execution_count": 83,
   "id": "457c33d4",
   "metadata": {},
   "outputs": [],
   "source": [
    "s= \"python\""
   ]
  },
  {
   "cell_type": "code",
   "execution_count": 86,
   "id": "4d92d8f1",
   "metadata": {},
   "outputs": [
    {
     "data": {
      "text/plain": [
       "'cpython'"
      ]
     },
     "execution_count": 86,
     "metadata": {},
     "output_type": "execute_result"
    }
   ],
   "source": [
    "\"c\"+'python'"
   ]
  },
  {
   "cell_type": "code",
   "execution_count": null,
   "id": "5f31ede5",
   "metadata": {},
   "outputs": [],
   "source": []
  }
 ],
 "metadata": {
  "kernelspec": {
   "display_name": "Python 3 (ipykernel)",
   "language": "python",
   "name": "python3"
  },
  "language_info": {
   "codemirror_mode": {
    "name": "ipython",
    "version": 3
   },
   "file_extension": ".py",
   "mimetype": "text/x-python",
   "name": "python",
   "nbconvert_exporter": "python",
   "pygments_lexer": "ipython3",
   "version": "3.9.12"
  }
 },
 "nbformat": 4,
 "nbformat_minor": 5
}
