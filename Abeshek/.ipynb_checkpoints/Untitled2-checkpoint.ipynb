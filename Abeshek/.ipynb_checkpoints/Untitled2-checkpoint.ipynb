{
 "cells": [
  {
   "cell_type": "code",
   "execution_count": 1,
   "id": "acd8afa6",
   "metadata": {},
   "outputs": [
    {
     "data": {
      "text/plain": [
       "'3040'"
      ]
     },
     "execution_count": 1,
     "metadata": {},
     "output_type": "execute_result"
    }
   ],
   "source": [
    "\"30\"+\"40\""
   ]
  },
  {
   "cell_type": "code",
   "execution_count": 2,
   "id": "48f5d8f4",
   "metadata": {},
   "outputs": [],
   "source": [
    "#String concatonation\n"
   ]
  },
  {
   "cell_type": "code",
   "execution_count": 8,
   "id": "2751fb0c",
   "metadata": {},
   "outputs": [],
   "source": [
    "a = \"My Name Is\""
   ]
  },
  {
   "cell_type": "code",
   "execution_count": null,
   "id": "0f6b4e26",
   "metadata": {},
   "outputs": [],
   "source": []
  },
  {
   "cell_type": "raw",
   "id": "d019b83b",
   "metadata": {},
   "source": [
    "a + \" Abeshek Manger\""
   ]
  },
  {
   "cell_type": "code",
   "execution_count": 11,
   "id": "5e606bb4",
   "metadata": {},
   "outputs": [],
   "source": [
    "letter = \"t\""
   ]
  },
  {
   "cell_type": "code",
   "execution_count": 17,
   "id": "0432e893",
   "metadata": {},
   "outputs": [
    {
     "data": {
      "text/plain": [
       "'tttttttttttt'"
      ]
     },
     "execution_count": 17,
     "metadata": {},
     "output_type": "execute_result"
    }
   ],
   "source": [
    "letter *12"
   ]
  },
  {
   "cell_type": "code",
   "execution_count": 18,
   "id": "ebea8fae",
   "metadata": {},
   "outputs": [],
   "source": [
    "x= \"Abeshek Manger\""
   ]
  },
  {
   "cell_type": "code",
   "execution_count": 19,
   "id": "e625abe6",
   "metadata": {},
   "outputs": [
    {
     "data": {
      "text/plain": [
       "'Abeshek Manger'"
      ]
     },
     "execution_count": 19,
     "metadata": {},
     "output_type": "execute_result"
    }
   ],
   "source": [
    "x"
   ]
  },
  {
   "cell_type": "code",
   "execution_count": 22,
   "id": "688e4452",
   "metadata": {},
   "outputs": [
    {
     "data": {
      "text/plain": [
       "'ABESHEK MANGER'"
      ]
     },
     "execution_count": 22,
     "metadata": {},
     "output_type": "execute_result"
    }
   ],
   "source": [
    "x.upper()"
   ]
  },
  {
   "cell_type": "code",
   "execution_count": 23,
   "id": "5f570e21",
   "metadata": {},
   "outputs": [
    {
     "data": {
      "text/plain": [
       "['Abeshek', 'Manger']"
      ]
     },
     "execution_count": 23,
     "metadata": {},
     "output_type": "execute_result"
    }
   ],
   "source": [
    "x.split()"
   ]
  },
  {
   "cell_type": "code",
   "execution_count": 25,
   "id": "288cba78",
   "metadata": {},
   "outputs": [
    {
     "data": {
      "text/plain": [
       "['Ab', 'sh', 'k Mang', 'r']"
      ]
     },
     "execution_count": 25,
     "metadata": {},
     "output_type": "execute_result"
    }
   ],
   "source": [
    "x.split('e')"
   ]
  },
  {
   "cell_type": "code",
   "execution_count": 29,
   "id": "ac0a0e3b",
   "metadata": {},
   "outputs": [
    {
     "data": {
      "text/plain": [
       "'\\nHEY THIS IS MULYLINE COMMENT\\nI AM MULYLINE\\n'"
      ]
     },
     "execution_count": 29,
     "metadata": {},
     "output_type": "execute_result"
    }
   ],
   "source": [
    "'''\n",
    "HEY THIS IS MULYLINE COMMENT\n",
    "I AM MULYLINE\n",
    "'''"
   ]
  },
  {
   "cell_type": "code",
   "execution_count": 38,
   "id": "448bfa7c",
   "metadata": {},
   "outputs": [],
   "source": [
    "My_name =\" Abeshek\""
   ]
  },
  {
   "cell_type": "code",
   "execution_count": 40,
   "id": "5af79a74",
   "metadata": {},
   "outputs": [
    {
     "name": "stdout",
     "output_type": "stream",
     "text": [
      "Hello my name is Abeshek\n"
     ]
    }
   ],
   "source": [
    "print('Hello my name is' + My_name)"
   ]
  },
  {
   "cell_type": "code",
   "execution_count": 41,
   "id": "692ea0d0",
   "metadata": {},
   "outputs": [],
   "source": [
    "#.formad methord"
   ]
  },
  {
   "cell_type": "code",
   "execution_count": 42,
   "id": "864e6f0d",
   "metadata": {},
   "outputs": [],
   "source": [
    "#'String here {}{}{}'.format(something 1, something2, something3)"
   ]
  },
  {
   "cell_type": "code",
   "execution_count": 46,
   "id": "cfb67e64",
   "metadata": {},
   "outputs": [
    {
     "name": "stdout",
     "output_type": "stream",
     "text": [
      "I am a student of Medhavi Skills University\n"
     ]
    }
   ],
   "source": [
    "print ('I am a student of {}'.format('Medhavi Skills University'))"
   ]
  },
  {
   "cell_type": "code",
   "execution_count": 56,
   "id": "8011b6a5",
   "metadata": {},
   "outputs": [
    {
     "name": "stdout",
     "output_type": "stream",
     "text": [
      "I am Abeshek Rana Manger\n"
     ]
    }
   ],
   "source": [
    "print('I am {a} {r} {m}'.format(a=\"Abeshek\", r=\"Rana\", m=\"Manger\"))"
   ]
  },
  {
   "cell_type": "code",
   "execution_count": 60,
   "id": "5576b859",
   "metadata": {},
   "outputs": [
    {
     "name": "stdout",
     "output_type": "stream",
     "text": [
      "this is a string INSERTED\n"
     ]
    }
   ],
   "source": [
    "print('this is a string {}' .format('INSERTED'))"
   ]
  },
  {
   "cell_type": "code",
   "execution_count": 61,
   "id": "4996fd61",
   "metadata": {},
   "outputs": [],
   "source": [
    "#float Formatting {valuer:width.precision f}"
   ]
  },
  {
   "cell_type": "code",
   "execution_count": 62,
   "id": "67463c6a",
   "metadata": {},
   "outputs": [],
   "source": [
    "result =100/77"
   ]
  },
  {
   "cell_type": "code",
   "execution_count": 63,
   "id": "3dd648fa",
   "metadata": {},
   "outputs": [
    {
     "data": {
      "text/plain": [
       "1.2987012987012987"
      ]
     },
     "execution_count": 63,
     "metadata": {},
     "output_type": "execute_result"
    }
   ],
   "source": [
    "result"
   ]
  },
  {
   "cell_type": "code",
   "execution_count": 65,
   "id": "efb5399b",
   "metadata": {},
   "outputs": [],
   "source": [
    "s1='hello'"
   ]
  },
  {
   "cell_type": "code",
   "execution_count": null,
   "id": "05380cdf",
   "metadata": {},
   "outputs": [],
   "source": []
  }
 ],
 "metadata": {
  "kernelspec": {
   "display_name": "Python 3 (ipykernel)",
   "language": "python",
   "name": "python3"
  },
  "language_info": {
   "codemirror_mode": {
    "name": "ipython",
    "version": 3
   },
   "file_extension": ".py",
   "mimetype": "text/x-python",
   "name": "python",
   "nbconvert_exporter": "python",
   "pygments_lexer": "ipython3",
   "version": "3.9.12"
  }
 },
 "nbformat": 4,
 "nbformat_minor": 5
}
